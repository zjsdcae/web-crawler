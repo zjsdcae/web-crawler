{
 "cells": [
  {
   "cell_type": "code",
   "execution_count": 1,
   "metadata": {},
   "outputs": [],
   "source": [
    "import re\n",
    "import urllib.request\n",
    "from bs4 import BeautifulSoup as bs"
   ]
  },
  {
   "cell_type": "code",
   "execution_count": 2,
   "metadata": {},
   "outputs": [
    {
     "name": "stdout",
     "output_type": "stream",
     "text": [
      "<re.Match object; span=(0, 4), match='test'>\n"
     ]
    }
   ],
   "source": [
    "test1 = \"test\"\n",
    "des = \"testabc\"\n",
    "print(re.search(test1,des))"
   ]
  },
  {
   "cell_type": "code",
   "execution_count": 3,
   "metadata": {},
   "outputs": [],
   "source": [
    "ptn = r\"r[au]n\""
   ]
  },
  {
   "cell_type": "code",
   "execution_count": 4,
   "metadata": {},
   "outputs": [],
   "source": [
    "html = urllib.request.urlopen(\"http://www.gov.cn/index.htm\").read().decode('utf-8')\n",
    "soup = bs(html, features='lxml')\n",
    "img_links = soup.find_all(\"img\",{\"src\": re.compile('.*?\\.jpg')})\n",
    "# for link in img_links:\n",
    "#     print(link['src'])"
   ]
  },
  {
   "cell_type": "code",
   "execution_count": 60,
   "metadata": {},
   "outputs": [
    {
     "ename": "SyntaxError",
     "evalue": "invalid character in identifier (<ipython-input-60-ebcee4ee201e>, line 23)",
     "output_type": "error",
     "traceback": [
      "\u001b[0;36m  File \u001b[0;32m\"<ipython-input-60-ebcee4ee201e>\"\u001b[0;36m, line \u001b[0;32m23\u001b[0m\n\u001b[0;31m    getDoc(r.url）\u001b[0m\n\u001b[0m                ^\u001b[0m\n\u001b[0;31mSyntaxError\u001b[0m\u001b[0;31m:\u001b[0m invalid character in identifier\n"
     ]
    }
   ],
   "source": [
    "import requests\n",
    "import webbrowser\n",
    "\n",
    "def getDoc(link):\n",
    "    html = urllib.request.urlopen(link).read().decode('utf-8')\n",
    "    soup = bs(html, features='lxml')\n",
    "    all_href = soup.find_all(\"a\")\n",
    "    for l in all_href:\n",
    "        if \"zhengce\" in l['href']:\n",
    "#             doc.append(l['href'])\n",
    "            soupDoc = urllib.request.urlopen(l['href']).read().decode('utf-8')\n",
    "            dic[l.get_text()] = l['href']\n",
    "                \n",
    "    if soup.find('a', id='snext'):\n",
    "        getDoc(soup.find('a', id='snext')['href'])\n",
    "\n",
    "param = {\"t\":\"paper\", \"q\":\"疫情\"}\n",
    "base_url = \"http://sousuo.gov.cn/s.htm\"\n",
    "r = requests.get(base_url, params=param)\n",
    "dic = {}\n",
    "# doc = []\n",
    "html = urllib.request.urlopen(r.url).read().decode('utf-8')\n",
    "getDoc(r.url)\n",
    "print(dic)\n",
    "# print(getDoc(r.url))"
   ]
  },
  {
   "cell_type": "code",
   "execution_count": 50,
   "metadata": {},
   "outputs": [
    {
     "name": "stdout",
     "output_type": "stream",
     "text": [
      "<!DOCTYPE html PUBLIC \"-//W3C//DTD XHTML 1.0 Transitional//EN\" \"http://www.w3.org/TR/xhtml1/DTD/xhtml1-transitional.dtd\">\n",
      "<html>\n",
      "<head>\n",
      "<meta http-equiv=\"Content-Type\" content=\"text/html; charset=utf-8\">\n",
      "<meta content=\"{qq|vtL7Kg9sZUd9t52Hds_0E5VHCsBRlzG.Zsj7EnoU6pHYm504lwMgtZ0Bus_EE0f6DRWRT4fHPogz79Ths3Bwr5K4vsiZRa948VXT4vSuG13ml6Sd83Qy1TChus5TvC6BeUdxdT2_xIJ2PTvkpFF3MOD5m1FRBLYOCURmBOCnIIgRPvfj78tfvPf5ZoyTOgVcspiwg7Y.2Q.ply9K0sjz8vvXLoMxWvUKLrhRhPf4ccNwhO25DmZRQzKPIAjyQC6tjVERHNCbFVtpxOl5icWgqqqqqqqq8http:DhJ9BZWs1c.6XlJKWivF4A:80~RMrWRVPfyiTETAYwaHVzQFfy1J1q38mzZJY7dRYwzmlZtQ2zziSZdIYp5HTqRs2wRoUL41GYOKr3DosfKYl3tq2wDUqWR8uY2kG0RrSNqcvVcM2wco2QJVpN_KqARhcl1KSVTkYQirorIhmVrEA3fWcqnUq3OwS3_HPZ9DkzbtAQCDk0OYqwUJr3moa3NM1EBonLH3mG7i1ZilrVCYkRVqTQmxOl_Ym9SUmW4V1fsUqZgkG7Hqq9etsagA29HlYSqkfJcDpeHk0WokSAYEAaBEc0uA90HoYSWkfecmp54qX7e_m.qD5wRSnvrY57YXqvjqd924PMex43NdqhiU7VqZnv9UtLhlYP4pPBHU0hl4608r0.SFijKbFBD12FXTIaio0Upw91jX6Dz8oaYbKPqdtqqQ9qqqqqqqqlVjSek1zLD6ca01bqr0hXgfmwqmlx47r7qq!x7z,aac,amr,asm,avi,bak,bat,bmp,bin,c,cab,css,csv,com,cpp,dat,dll,doc,dot,docx,exe,eot,fla,flc,fon,fot,font,gdb,gif,gz,gho,hlp,hpp,htc,ico,ini,inf,ins,iso,js,jar,jpg,jpeg,json,java,lib,log,mid,mp4,mpa,m4a,mp3,mpg,mkv,mod,mov,mim,mpp,msi,mpeg,obj,ocx,ogg,olb,ole,otf,py,pyc,pas,pgm,ppm,pps,ppt,pdf,pptx,png,pic,pli,psd,qif,qtx,ra,rm,ram,rmvb,reg,res,rtf,rar,so,sbl,sfx,swa,swf,svg,sys,tar,taz,tif,tiff,torrent,txt,ttf,vsd,vss,vsw,vxd,woff,woff2,wmv,wma,wav,wps,xbm,xpm,xls,xlsx,xsl,xml,z,zip,apk,plist,ipaqqqqqqqH8ENtXln51.YJXl7{jrRG6LOn.HdpG4cU3Ri2GzPnS37YSeKuH3J2jnbkj3ZrCavDqhW969kDsHdJTSKsqQQrL0k1hJgQd6KscMJx9ab.mtZTC6oICRJYPnKsF3qQYeSfyDUjR5Nv_KhVRzJb0DsM3zwvhZJr9P26zfadk674r4r1q.F7wku2HkN3vJK4BuH1Jz33OveY9I8Aa2OQ07mM8LTP7qqqqqqq9c.026b4x3WG2LuBnHdAyenKL34R5_obBIjYbr2]gK10lTTSrfatF_sJLQ1RRJG;LMd7ooZR5POYNsQM0eTvDa;pLV9HndvziExZcwpPeaflG;eRYMNfwJeVS2qoBZfY2A5q;wjcGs0bGwLhNaOAYCrbpza;YYDEMPxoYaXO1R3cjIPE5q;UWGHZ8K7hMEFK8DMpTz62q;JFeWUsnlgI99n8QoC3lToa;j9DVuoXRvNwwX0dL64Z8Gq;E4zagB44oqqPBke9WTdSbG;2ePjHCxpGh3fVJFzyFpcLq;2x_w7lPpDGwCh_ChKfeVja;_KVdZTsgrssC6a5fxcKxtA;_XZUiTBJJdZA2tKGSCSXrG;WKL0PlWDyccPKhywDjL7NG;nvaNunWKBnnSOMD3KaBQEq;bCTNB24bwE_tys3fzwb96a;g98nzucgNzvsVkuuwv6SeG;s_ZrxMqOGHIkmhZ3CEXlma;gOdPGrNEW.jiTCEy0SaARA;Iu4UUP7.E0_SBHYL.JqkpG;TJKkIEY72dzxdgfLmIDQYG;moCBm5JV_AMAq6t3FC8nyG;WuVTy6Tt7siqgQH0pZ4WGa;P1dIs9M2g0sUM8rL_QmVDa;kLlxjOiowmkqwhVbo6lEea;bN.Zr0SsRPz0NN1Hjw4qoG;6dQlTMKd_FFVhAaeElV_.G;SbvjoB1F5.wf_H6Vrm3Cna;QkCHic9qD.uFpbs4iHH9.q;50V3dIu7ZsFeMZLjRSz04a;VNthDJoN0agbDwN76TIe9a;lGBnb6dccpYKzNYTaM3B3A;oCOjV5_1yxkaL28v1pOEBa;pb4g6mlRQSraPTj0CLzL5q;21cHWLXRXpTLnbbcdoY7ma;hVaZrxrw2ay2S8Ce.CIRna;NCcY2IlcnHMRLyfGZl31ga;TYdp1Uzjzym7NU90IDaPha;f7YKhIF9e9vb.Gmp5Cy0Kq;tF02EDOc_ZGNAPUpFwEfcq;8uxnaZWElbzuwVnk2mW64G;5PvmRjxHq8wG0_.Bo7J_ZA;OW2XCwfArRenACSNUPBZ8G;s_AgFghQ3Vlj9J5kPCqUIG;2V.ymvKtg0E.B.IxnFdxqG;oGiXEBZJ6RZnxhnrlOYEIa;pqee5RdQTDazWwe3TPfaYq;WEIQLOxjcjWN7yDLkLBpaq;58D00f1tD4B6_I465qaoQG;BQTW0vmMdURyCv3oyQ5bdq;IWsYX1P1gEc4zCfpJB8ExA;OtRivw4Kyrp8Lsdw8k8Eia;60KmLn1YMTNNa.zipx1O7A;xwCzPdm0SnEuwaicn4X12a;CAm20ruJygQVoFgTvqQdha;PdCBPnDeiwQBy5nvcbv2aA;gQ6mp.8p19mNKSG01wc9nG;FqfDy_chKmf6NUlou0BtWq;vuadT90gVmv13oFFz7aUuq;BOGWVRgS0CCnaR7BovThxG;gvkxerfxEsO49kkPH.XcUq;b8mG7lVpKG4HP3ebDK2Jvq;7ZZIQoPZNG1fhyxuhn.Dcq;4jqjEWSo0FEsgXrScFp1va;ZWX.kmSkxUhNIk6qfAoDCA;prO3pi._6sv8y_x8J1iERa;4V65.AGKOXlKwlgaUi32za;loQkIwt8s_o8wUQS4_TChA;bfuVYV3vVQQgpZkjHrQk8G;MkGNaOzaVPtpPv5pMKE1xG;YsmnNY59ASa4xC8HseRRlq;xIy8poALvxcuXKjlMLIDtG;R0tf_3z.4faguFSdWU2.CA;iP_lGRkxDVVKG2U9QpBhua;PrOrelKLAy.Q5C2dtX_.Tq;TTAWhJVQFxxk4zPGEXGv3G;RYckrxJj1dfCSTFtUirmFG;gbY7vR5uSxTBKBkhfvWrEG;rHgbS2b49Abudn9mFuwB_a;Y2UIPRhDFOIl5WyYTBJL0Tt1083179040r0VW0GcIAN_rvGr8GRTq60o\"><!--[if lt IE 9]><script r='m'>document.createElement(\"section\")</script><![endif]--><script type=\"text/javascript\" charset=\"iso-8859-1\" src=\"/4pUrbNyi8V8b/0fTdgdleQDPV.6ca01ba.js\" r='m'></script><script type=\"text/javascript\" r=\"m\">(function(){var _$Im=0,_$Hf=[[7,2,9,11,0,5,6,4,8,3,1,10],[70,49,59,2,59,4,47,86,53,78,46,78,12,8,16,78,45,60,26,32,55,37,38,74,38,73,93,51,17,97,78,72,84,43,99,81,3,62,52,54,50,44,62,80,57,23,22,15,62,27,29,87,4,58,62,20,35,41,6,19,21,90,67,62,25,85,62,71,96,34,66,78,5,77,24,34,10,33,78,36,34,78,56,4,40,42,1,18,69,78,48,31,9,7,11,39,65,13,64,82,92,91,68,0,14,75,98,95,88,63,76,30,83,79,28,89,94,61,78],[23,1,20,27,12,15,32,24,7,26,5,22,16,4,29,18,19,11,34,28,3,8,17,30,6,0,6,13,18,6,33,6,14,9,6,2,6,10,25,31,21,18],[10,9,49,12,4,47,0,19,21,34,35,5,33,40,18,44,46,1,32,34,8,45,7,25,22,13,38,2,6,43,3,31,6,41,26,39,26,28,20,2,23,17,45,11,16,34,26,36,49,40,15,30,48,37,14,24,39,49,36,15,28,29,42,27,4],[21,10,23,25,4,26,15,6,32,10,5,24,0,10,35,11,0,20,18,16,13,27,14,9,29,20,8,12,22,17,30,27,19,29,34,8,28,2,1,10,31,7,3,6,33,10]];function _$v3(_$qm,_$w$){return _$s6.Math.abs(_$qm)%_$w$;}function _$TS(_$4q){_$4q[_$v3(_$XC(_$4q),16)]=_$jx(_$4q);if(_$4q[_$v3(_$aj()+_$WN(),16)]){_$4q[6]=_$Z7()+_$1N();}_$QQ(_$4q);_$GQ(_$4q);return _$4q[_$v3(_$Z7()-_$4q[_$v3(_$qH(),16)],16)];}function _$XC(_$4q){var _$yg=_$Rs();if(_$yv()){var _$yg=_$$n();}_$4q[3]=_$yv();_$4q[15]=_$aj();return _$4q[_$v3(_$$n(),16)];}function _$yv(){return 9}function _$Rs(){return 10}function _$$n(){return 8}function _$nw(){return 7}function _$Z7(){return 13}function _$aj(){return 5}function _$jx(_$4q){var _$CE=_$1N();var _$sL=_$yv();_$4q[_$v3(_$BK(),16)]=_$Rs();_$8B(_$4q);if(_$0e()){_$4q[_$v3(_$yv(),16)]=_$6D();}_$4q[_$v3(_$Jg(),16)]=_$OL();return _$42(_$4q);}function _$1N(){return 3}function _$BK(){return 12}function _$8B(_$4q){_$4q[_$v3(_$nw(),16)]=_$Z7();var _$CE=_$dr();var _$yg=_$BK();_$4q[_$v3(_$WN(),16)]=_$nF();return _$nw();}function _$dr(){return 14}function _$WN(){return 11}function _$nF(){return 1}function _$0e(){return 2}function _$6D(){return 15}function _$Jg(){return 6}function _$OL(){return 4}function _$42(_$4q){_$4q[_$v3(_$yv(),16)]=_$6D();var _$yg=_$$n();var _$sL=_$Jg();_$4q[4]=_$0e();return _$qH();}function _$qH(){return 0}function _$QQ(_$4q){_$Pk(_$4q);_$GU(_$4q);_$4q[14]=_$aj()+_$WN();_$4q[6]=_$Z7()+_$1N();var _$CE=_$nF();if(_$4q[_$v3(_$BK(),16)]){var _$yg=_$nw();}return _$nF()-_$4q[_$v3(_$OL(),16)];}function _$Pk(_$4q){_$4q[_$v3(_$1N(),16)]=_$yv();var _$yg=_$Rs();var _$sL=_$$n();_$4q[_$v3(_$nw(),16)]=_$Z7();_$4q[3]=_$yv();return _$4q[_$v3(_$BK(),16)];}function _$GU(_$4q){var _$sL=_$nw();var _$CE=_$Z7();_$4q[3]=_$yv();_$4q[15]=_$aj();var _$CE=_$yv();if(_$$n()){_$4q[6]=_$OL();}_$SB(_$4q);return _$4q[_$v3(_$qH(),16)];}function _$SB(_$4q){var _$CE=_$Jg();var _$sL=_$OL();var _$yg=_$yv();var _$yg=_$6D();var _$sL=_$WN();_$4q[1]=_$nw();return _$Z7();}function _$Db(_$4q){_$4q[3]=_$yv();var _$CE=_$Rs();var _$yg=_$$n();var _$yg=_$Z7();var _$CE=_$1N();_$4q[_$v3(_$dr(),16)]=_$BK();return _$Rs();}function _$GQ(_$4q){_$4q[_$v3(_$5r(_$4q),16)]=_$aj();_$4q[11]=_$nF();_$UJ(_$4q);_$4q[7]=_$Z7();_$4q[_$v3(_$yv()+_$6D(),16)]=_$4H(_$4q);var _$CE=_$yv();if(_$4q[_$v3(_$OL(),16)]){var _$CE=_$6D();}return _$nF();}function _$5r(_$4q){_$4q[12]=_$Rs();var _$CE=_$nw();var _$CE=_$Z7();_$4q[3]=_$yv();return _$6D();}function _$UJ(_$4q){_$o9(_$4q);var _$CE=_$nF();var _$sL=_$nw();if(_$0e()){_$4q[_$v3(_$yv(),16)]=_$6D();}return _$q5(_$4q);}function _$o9(_$4q){_$4q[_$v3(_$qH(),16)]=_$dr();var _$sL=_$WN();var _$sL=_$nF();_$4q[_$v3(_$OL(),16)]=_$0e();_$4q[0]=_$dr();return _$BK();}function _$q5(_$4q){_$4q[_$v3(_$Z7(),16)]=_$1N();_$4q[9]=_$6D();_$4q[5]=_$WN();return _$nF();}function _$4H(_$4q){_$4q[_$v3(_$nF(),16)]=_$nw();var _$sL=_$qH();var _$CE=_$dr();_$4q[12]=_$Rs();return _$$n();}var _$rl,_$pM,_$s6,_$53,_$WU,_$TS,_$gX;var _$VO,_$xs,_$e2=_$Im,_$_C=_$Hf[0];while(1){_$xs=_$_C[_$e2++];if(_$xs<4){if(_$xs<1){_$e2+=5;}else if(_$xs<2){_$$r(0);}else if(_$xs<3){_$e2+=6;}else{_$e2+=-5;}}else if(_$xs<8){if(_$xs<5){_$e2+=-6;}else if(_$xs<6){_$WU=_$s6['$_ts'];}else if(_$xs<7){_$VO= !_$WU;}else{_$rl=[4,16,64,256,1024,4096,16384,65536];}}else{if(_$xs<9){_$s6=window,_$gX=String,_$53=Array;}else if(_$xs<10){if( !_$VO)_$e2+=1;}else if(_$xs<11){return;}else{_$WU=_$s6['$_ts']={};}}}function _$$r(_$sL,_$qm){function _$Rf(){var _$gX=_$8r.charCodeAt(_$qY++ ),_$v3;if(_$gX<128){return _$gX;}else if(_$gX<251){return _$gX-32;}else if(_$gX===251){return 0;}else if(_$gX===254){_$gX=_$8r.charCodeAt(_$qY++ );if(_$gX>=128)_$gX-=32;_$v3=_$8r.charCodeAt(_$qY++ );if(_$v3>=128)_$v3-=32;return _$gX*219+_$v3;}else if(_$gX===255){_$gX=_$8r.charCodeAt(_$qY++ );if(_$gX>=128)_$gX-=32;_$v3=_$8r.charCodeAt(_$qY++ );if(_$v3>=128)_$v3-=32;_$gX=_$gX*219*219+_$v3*219;_$v3=_$8r.charCodeAt(_$qY++ );if(_$v3>=128)_$v3-=32;return _$gX+_$v3;}else if(_$gX===252){_$v3=_$8r.charCodeAt(_$qY++ );if(_$v3>=128)_$v3-=32;return -_$v3;}else if(_$gX===253){_$gX=_$8r.charCodeAt(_$qY++ );if(_$gX>=128)_$gX-=32;_$v3=_$8r.charCodeAt(_$qY++ );if(_$v3>=128)_$v3-=32;return _$gX* -219-_$v3;}else{}}var _$qY,_$8r,_$G3,_$f5,_$gX,_$v3,_$Im,_$e2,_$VO,_$fV,_$xs,_$_C,_$4q,_$Fz,_$yB,_$yg,_$CE,_$6E,_$C_,_$ix;var _$yv,_$$n,_$XC=_$sL,_$nw=_$Hf[1];while(1){_$$n=_$nw[_$XC++];if(_$$n<64){if(_$$n<16){if(_$$n<4){if(_$$n<1){_$qm._$WU=\"Ea7JR.MjzNa\";}else if(_$$n<2){_$gX=_$s6.eval;}else if(_$$n<3){_$gX+=\"E0EV6rFsm4rPmd73V1Ol33MHg01PcweTbkPP8_Otn5G_2IQvr9XWS8wAXAeLs2fx5sVXdiV00cjsouwtobieeQilUMpxLUM2uGRplvIVZcf4FkxMYsDqkXToBi2yPKgrKmegU88W5jVIhcsFaUffEhawNJyS$xc01QPCp$XwII$vfeME0wsmb7yx3gf_\";}else{var _$v3=_$$r(10);}}else if(_$$n<8){if(_$$n<5){if( !_$yv)_$XC+=2;}else if(_$$n<6){var _$gX=_$s6.eval.toString();}else if(_$$n<7){for(_$yB=0;_$yB<_$ix;_$yB++ ){_$fm(16,_$yB,_$4q);}}else{_$qm._$fL=\"_$BK\";}}else if(_$$n<12){if(_$$n<9){for(_$gX=0,_$v3=0;_$v3<_$Im;_$v3+=2){_$e2[_$gX++ ]=_$VO+_$qm.substr(_$v3,2);}}else if(_$$n<10){_$qm._$n7=2;}else if(_$$n<11){return 1;}else{_$qm._$QD=\"_$$n\";}}else{if(_$$n<13){var _$gX,_$v3,_$Im=_$qm.length,_$e2=new _$53(_$Im/2),_$VO='_$';}else if(_$$n<14){_$qm._$Uu=\"_$aj\";}else if(_$$n<15){_$qm._$uI=\"beVGEQTarUa\";}else{var _$xs=_$Rf();}}}else if(_$$n<32){if(_$$n<20){if(_$$n<17){return _$e2;}else if(_$$n<18){_$gX+=\"3rmF2gP5PfyP79sv1ZPpIu7Sqqvyv7XjKK7jZYSEETaOz_WOBbiNii$PijnOFWIcKSo2xxon$5WS4a9IlJ3ic7eMcWCRK8D_K05iVkP_O54KXNrES4_gYOJwJLX7A$NeSsALUvehMowhsgatLOfTT7XHqeb3z4WD7vveyKhDci9b9pNoIhwWuz2HBMGj3v\";}else if(_$$n<19){ret=_$gX.call(_$s6,_$qm);}else{for(_$yB=0;_$yB<_$ix;_$yB++ ){_$4q.push(\"}\");}}}else if(_$$n<24){if(_$$n<21){_$qY+=_$_C;}else if(_$$n<22){_$4q.push(\")();\");}else if(_$$n<23){var _$Fz=_$Rf();}else{var _$C_=_$Rf();}}else if(_$$n<28){if(_$$n<25){_$yv=_$gX!==\"functioneval(){[nativecode]}\";}else if(_$$n<26){_$v3=_$$r(10);}else if(_$$n<27){_$gX+=\"MznnLKOr2ddkiMuOBzk5P16l_lR6d8hHAOMJl0cmVCPXwv5ByDXLKdb_K4H1wYeG96PjVam5nhSSwIAlNHI2EvQDUu5eWafLM9nMEczbaz3Kw3yl5DKi8whKiVMAelNh8MLj7ThoneMkoBDzGItDzS4XuQsflPXZA6aVvTNK7lg_z6EbaGyOa0un7U3f\";}else{_$ix=_$Rf();}}else{if(_$$n<29){_$qm._$4T=\"_$wf\";}else if(_$$n<30){var _$_C=_$Rf();}else if(_$$n<31){_$qm._$xs=\"_$w3\";}else{_$qm._$s6=24;}}}else if(_$$n<48){if(_$$n<36){if(_$$n<33){_$gX+=\"d0kVnYkYpZasAy_taIVW_FPg$bYr3jSOa9ELrsb6Fy4u9J2N4TCbYhiZbAJ1kHdhOxS9PSZSXeaEDGLL06JiFlBJtCYZLlhZ9U4wBklMHcItd5Z_0H6tcalTcSlCBIrTtohgLgvUPm4$QS3JkrZFbiZOUgY1TtHOb1Yo28gDOYsyZD_MqnDTT1lmvVQO\";}else if(_$$n<34){return 0;}else if(_$$n<35){if( !_$yv)_$XC+=1;}else{var _$4q=[];}}else if(_$$n<40){if(_$$n<37){_$yv=_$qm===undefined||_$qm===\"\";}else if(_$$n<38){_$gX+=\"qiJ3pli6q8J4lbCsfoP4$WUsI1uUTiTUJTJtVrfIbCILxoE$6CFGgMV2ltox8GiSDU2boSjXlET0gYDi3nFR2CMjpbf0UeDEOzJUJcVyoLt0BQaiphFFEoa3z95ahWleW36x_DevAU$$an$pR_fEsYOSxJVNre8V_ZQ5UD7P77St0mLbybzrwN_rUcLY\";}else if(_$$n<39){_$XC+=-20;}else{_$qm._$Ev=\"_$nw\";}}else if(_$$n<44){if(_$$n<41){ret=_$s6.execScript(_$qm);}else if(_$$n<42){var _$ix=_$Rf();}else if(_$$n<43){_$XC+=2;}else{_$WU[\"6ca01ba\"]=_$pM;}}else{if(_$$n<45){var _$qY=0;}else if(_$$n<46){var _$gX='';}else if(_$$n<47){return new Date().getTime();}else{_$$r(31);}}}else{if(_$$n<52){if(_$$n<49){_$qm._$s8=41;}else if(_$$n<50){_$$r(90,_$WU);}else if(_$$n<51){var _$e2=_$8r.length;}else{_$gX+=\"RlOPAtRb_AQI_Nspzyxp0XmhwBgxEUt5jERTwafgq1bRXll4PzMW$DBGD0afKP9qkJVUBEKb4so$8fQqtXe_RA8XLq8Nvl6v0KbZDKbe5NGi7eoWiRbSznLiIJN1fpjYjNdYq9pflqtyaRX0hVUKo6R$_q29e4i4Ho4DbjtOklQtvsM4YbAER95Abs_u\";}}else if(_$$n<56){if(_$$n<53){var _$f5=_$WU.aebi=[];}else if(_$$n<54){_$fm(0);}else if(_$$n<55){var _$Im=_$$r(72);}else{_$gX+=\"cVroQ92lrCMPjt0sUnRNwnhiT8o7ZwHha4L6__ZI13omsaAjDg6TJ9d1Nb2F0WARqTEwKuwc$XVfOvjL1M9i$S44kggKteD31mMG8ZzcbrR7QTjZDOwXOahvY_iWbueksTn9l1yJXUf3ZLgAPu2iGFFjY3CDjCWzxNuVMifCjqr1u0WrRFp2CAgEXcZr\";}}else if(_$$n<60){if(_$$n<57){_$yv=_$s6.execScript;}else if(_$$n<58){var _$fV=_$Rf();}else if(_$$n<59){_$6E=_$8r.substr(_$qY,_$_C).split(String.fromCharCode(255));}else{_$XC+=20;}}else{if(_$$n<61){_$gX+=\"rlpMs653WUTSqmw$Rf8rG3f5qYC_Fz6EzoSTsjQne0HDtZcUbtguITnuRuOOHv6ss8n7uI0xAGWlHf5b$rfmuHMBgXv3Ime2VOfVxs_C4qixyBygCEsLXCyvRs$nnwZ7ajjx1NBK8BdrWNnF0e6DJgOL42qHQQPkGUSBDbGQ5rUJo9q54Htxz2D1ibxB\";}else if(_$$n<62){_$qm._$4q=\"_$iV\";}else if(_$$n<63){}else{_$qm._$Dz=239;}}}}else{if(_$$n<80){if(_$$n<68){if(_$$n<65){_$qm._$5e=\"_$jx\";}else if(_$$n<66){_$qm._$M9=\"_$Z7\";}else if(_$$n<67){_$WU._$4u=1;}else{_$WU._$gX-=_$$r(10);}}else if(_$$n<72){if(_$$n<69){_$qm._$sL=\"_$VO\";}else if(_$$n<70){return ret;}else if(_$$n<71){_$WU._$sf=_$$r(16);}else{var _$CE=_$$r(10);}}else if(_$$n<76){if(_$$n<73){_$WU._$gX=new Date().getTime();}else if(_$$n<74){_$gX+=\"a$aqqZpeL1$TkcLF7C3S5SIbFmhke7K6_$9wOp6o6kp99HhU1GuoKjDmeN36oizslo_mOUdIFTgs_TLAqj6ueWo3wqLkOiXoDaDZaeFrhEwRBaRQ3TkEmSk4rNsKD7$qFSBy5QjHyVvJReztuw4rmrZ02uK$Ht8EZmtGfJr4GS80rI_HNg8l5wXdmIrn\";}else if(_$$n<75){_$yv=_$WU[\"6ca01ba\"];}else{_$qm._$qm=\"06eEdN_GFVBOw7wNzXuX.L\";}}else{if(_$$n<77){_$qm._$9J=\"_$rK\";}else if(_$$n<78){_$gX=_$gX.replace(/[\\r\\n\\s]/g,\"\");}else if(_$$n<79){return;}else{_$qm._$_C=\"_$3K\";}}}else if(_$$n<96){if(_$$n<84){if(_$$n<81){var _$VO=_$Rf();}else if(_$$n<82){var _$gX=_$$r(10);}else if(_$$n<83){_$qm._$Wa=\"_$1N\";}else{_$qm._$2N=\"_$2u\";}}else if(_$$n<88){if(_$$n<85){var _$8r=_$WU[\"6ca01ba\"];}else if(_$$n<86){_$$r(79,_$yg);}else if(_$$n<87){_$XC+=1;}else{_$yv=_$ix>0;}}else if(_$$n<92){if(_$$n<89){_$qm._$fV=\"dU63xTmly7RoA7bJahxi9a\";}else if(_$$n<90){_$qm._$e2=\"_$hK\";}else if(_$$n<91){var _$yg=_$4q.join('');}else{_$qm._$XC=\"_$8B\";}}else{if(_$$n<93){_$qm._$nM=\"_$dr\";}else if(_$$n<94){_$gX+=\"4mKxM07oi$KN5WFL8ipPNvoCIOF6ohCgx6bVtA98wxCx11mUDupEydlUhw3wgjly91zNqP0vUW0jXtefnopmeCQHF8HC1F_d7hUEziy4Vc4po00Uy8aYSdvMNS0ufRhscBuL26mLE9qoAMkm2vA9PHJXy5yjAHBn1ozAupwQexJZ4xHkcPnjhFXbu7Mv\";}else if(_$$n<95){_$qm._$Cb=\"_$PY\";}else{_$qm._$53=_$TS;}}}else{if(_$$n<97){_$yv=_$CE-_$gX>12000;}else if(_$$n<98){return _$$r(12,_$gX);}else if(_$$n<99){_$qm._$4X=\"Zsj0MwTRppa\";}else{var _$G3=_$WU._$sf;}}}}function _$fm(_$e2,_$zo,_$ST){function _$sj(){var _$xs=[0];Array.prototype.push.apply(_$xs,arguments);return _$uH.apply(this,_$xs);}var _$gX,_$v3,_$Im,_$Qn,_$e0,_$HD,_$tZ,_$cU,_$bt,_$gu,_$IT,_$nu,_$Ru,_$OO,_$Hv,_$6s;var _$fV,_$_C,_$VO=_$e2,_$4q=_$Hf[2];while(1){_$_C=_$4q[_$VO++];if(_$_C<16){if(_$_C<4){if(_$_C<1){var _$nu=_$fm(11);}else if(_$_C<2){var _$v3=_$gX>1?document.scripts[_$gX-2].src:_$pM;}else if(_$_C<3){var _$Hv=_$fm(11);}else{var _$cU=_$Rf();}}else if(_$_C<8){if(_$_C<5){for(_$Im=0;_$Im<_$gX;_$Im++ ){_$v3[_$Im]=_$Rf();}}else if(_$_C<6){_$VO+=18;}else if(_$_C<7){}else{_$VO+=19;}}else if(_$_C<12){if(_$_C<9){var _$bt=_$Rf();}else if(_$_C<10){_$f5[_$zo]=_$gX;}else if(_$_C<11){var _$v3=_$Rf();}else{var _$e0=_$Rf();}}else{if(_$_C<13){_$Qn=_$s6.ActiveXObject?new _$s6.ActiveXObject('Microsoft.XMLHTTP'):new _$s6.XMLHttpRequest();}else if(_$_C<14){_$VO+=-19;}else if(_$_C<15){var _$gX=_$fm(11);}else{_$Qn.open('GET',_$v3,false);}}}else if(_$_C<32){if(_$_C<20){if(_$_C<17){var _$v3=new Array(_$gX);}else if(_$_C<18){var _$gu=_$Rf();}else if(_$_C<19){return;}else{var _$Qn=_$Rf();}}else if(_$_C<24){if(_$_C<21){_$fV=_$v3;}else if(_$_C<22){_$uH(5,_$ST);}else if(_$_C<23){var _$gX=_$Rf();}else{var _$gX=document.scripts.length;}}else if(_$_C<28){if(_$_C<25){_$Qn.send();}else if(_$_C<26){var _$6s=[];}else if(_$_C<27){var _$Ru=_$fm(11);}else{if( !_$fV)_$VO+=4;}}else{if(_$_C<29){var _$tZ=_$Rf();}else if(_$_C<30){return _$v3;}else if(_$_C<31){var _$IT=_$Rf();}else{for(_$Im=0;_$Im<_$v3;_$Im++ ){_$6s[_$Im]=_$fm(11);}}}}else{if(_$_C<33){_$Qn.onreadystatechange=_$sj;}else if(_$_C<34){var _$OO=_$fm(11);}else{var _$HD=_$Rf();}}}function _$uH(_$v3,_$s8){var _$n7,_$gX;var _$e2,_$fV,_$Im=_$v3,_$xs=_$Hf[3];while(1){_$fV=_$xs[_$Im++];if(_$fV<16){if(_$fV<4){if(_$fV<1){_$e2=_$zo==0;}else if(_$fV<2){_$s8.push(_$G3[_$cU]);}else if(_$fV<3){if( !_$e2)_$Im+=4;}else{for(_$gX=1;_$gX<_$Ru.length;_$gX++ ){_$s8.push(\",\");_$s8.push(_$G3[_$Ru[_$gX]]);}}}else if(_$fV<8){if(_$fV<5){return;}else if(_$fV<6){_$s8.push(_$G3[_$C_]);}else if(_$fV<7){_$s8.push(\"var \");}else{for(_$gX=0;_$gX<_$nu.length;_$gX++ ){_$s8.push(\",\");_$s8.push(_$G3[_$nu[_$gX]]);}}}else if(_$fV<12){if(_$fV<9){_$e2=_$nu.length;}else if(_$fV<10){_$Im+=37;}else if(_$fV<11){_$e2=_$Qn.readyState==4;}else{_$$r(31);}}else{if(_$fV<13){_$Im+=41;}else if(_$fV<14){_$MB(37);}else if(_$fV<15){if( !_$e2)_$Im+=9;}else{_$s8.push(\"[\");}}}else if(_$fV<32){if(_$fV<20){if(_$fV<17){_$Im+=-41;}else if(_$fV<18){_$e2=_$WU[\"6ca01ba\"];}else if(_$fV<19){_$s8.push(\"=$_ts.aebi;\");}else{if( !_$e2)_$Im+=8;}}else if(_$fV<24){if(_$fV<21){_$Im+=-37;}else if(_$fV<22){_$s8.push(\"(function(){var \");}else if(_$fV<23){for(_$gX=0;_$gX<_$OO.length;_$gX+=2){_$MB(0,_$OO[_$gX],_$OO[_$gX+1],_$s8);}}else{_$$r(79,_$Qn.responseText);}}else if(_$fV<28){if(_$fV<25){_$s8.push(\"while(1){\");}else if(_$fV<26){_$s8.push(\"){\");}else if(_$fV<27){_$s8.push(\",\");}else{_$s8.push(\"}\");}}else{if(_$fV<29){_$s8.push(_$G3[_$Qn]);}else if(_$fV<30){_$s8.push(\"++];\");}else if(_$fV<31){_$s8.push(_$zo);}else{_$s8.push(\";\");}}}else if(_$fV<48){if(_$fV<36){if(_$fV<33){_$s8.push(\"(\");}else if(_$fV<34){_$s8.push(\"=$_ts.scj,\");}else if(_$fV<35){_$s8.push(_$G3[_$e0]);}else{_$s8.push(\"=0,\");}}else if(_$fV<40){if(_$fV<37){_$s8.push(_$G3[_$IT]);}else if(_$fV<38){_$e2=_$6s.length;}else if(_$fV<39){_$e2=_$Ru.length;}else{_$s8.push(_$G3[_$gu]);}}else if(_$fV<44){if(_$fV<41){_$s8.push(_$G3[_$Fz]);}else if(_$fV<42){_$s8.push(_$G3[_$HD]);}else if(_$fV<43){_$MB(10,0,_$6s.length);}else{_$s8.push(_$G3[_$Ru[0]]);}}else{if(_$fV<45){_$Im+=8;}else if(_$fV<46){if( !_$e2)_$Im+=1;}else if(_$fV<47){_$s8.push(\"function \");}else{var _$gX,_$n7=4;}}}else{if(_$fV<49){_$s8.push(\"];\");}else{_$s8.push(\"=\");}}}function _$MB(_$VO,_$uI,_$0x,_$AG){var _$gX,_$v3,_$Im,_$e2;var _$xs,_$4q,_$fV=_$VO,_$ix=_$Hf[4];while(1){_$4q=_$ix[_$fV++];if(_$4q<16){if(_$4q<4){if(_$4q<1){if( !_$xs)_$fV+=2;}else if(_$4q<2){_$fV+=1;}else if(_$4q<3){var _$gX=_$Hv.length;}else{_$xs=_$Hv.length!=_$gX;}}else if(_$4q<8){if(_$4q<5){_$v3-=_$v3%2;}else if(_$4q<6){var _$gX,_$v3,_$Im,_$e2=_$0x-_$uI;}else if(_$4q<7){if( !_$xs)_$fV+=1;}else{for(_$v3=0;_$v3<_$gX;_$v3+=2){_$s8.push(_$6E[_$Hv[_$v3]]);_$s8.push(_$G3[_$Hv[_$v3+1]]);}}}else if(_$4q<12){if(_$4q<9){_$s8.push(\"}\");}else if(_$4q<10){for(;_$uI<_$0x;_$uI++ ){_$s8.push(_$v3);_$s8.push(_$G3[_$gu]);_$s8.push('<');_$s8.push(_$uI+1);_$s8.push(\"){\");_$MB(2,_$uI);_$v3=\"}else if(\";}}else if(_$4q<11){return;}else{_$xs=_$e2==1;}}else{if(_$4q<13){_$fV+=8;}else if(_$4q<14){if( !_$xs)_$fV+=7;}else if(_$4q<15){_$0x-- ;}else{_$xs=_$gX.length!=_$v3;}}}else if(_$4q<32){if(_$4q<20){if(_$4q<17){_$xs=_$e2<=_$n7;}else if(_$4q<18){for(_$gX=1;_$gX<7;_$gX++ ){if(_$e2<=_$rl[_$gX]){_$Im=_$rl[_$gX-1];break;}}}else if(_$4q<19){_$fV+=17;}else{for(;_$uI+_$Im<_$0x;_$uI+=_$Im){_$s8.push(_$v3);_$s8.push(_$G3[_$gu]);_$s8.push('<');_$s8.push(_$uI+_$Im);_$s8.push(\"){\");_$MB(10,_$uI,_$uI+_$Im);_$v3=\"}else if(\";}}}else if(_$4q<24){if(_$4q<21){_$MB(2,_$uI);}else if(_$4q<22){_$AG.push([\"function \",_$G3[_$uI],\"(){var \",_$G3[_$tZ],\"=[\",_$0x,\"];Array.prototype.push.apply(\",_$G3[_$tZ],\",arguments);return \",_$G3[_$bt],\".apply(this,\",_$G3[_$tZ],\");}\"].join(''));}else if(_$4q<23){_$Im=0;}else{var _$gX=_$6s[_$uI];}}else if(_$4q<28){if(_$4q<25){_$xs=_$e2==0;}else if(_$4q<26){var _$v3=_$gX.length;}else if(_$4q<27){for(k=0;k<_$v3;k+=2){_$s8.push(_$6E[_$gX[k]]);_$s8.push(_$G3[_$gX[k+1]]);}}else{_$v3=\"if(\";}}else{if(_$4q<29){_$fV+=2;}else if(_$4q<30){_$s8.push(\"}else{\");}else if(_$4q<31){}else{_$gX-=_$gX%2;}}}else{if(_$4q<33){_$s8.push(_$6E[_$gX[_$v3]]);}else if(_$4q<34){_$s8.push(_$6E[_$Hv[_$gX]]);}else if(_$4q<35){_$MB(10,_$uI,_$0x);}else{_$fV+=21;}}}}}}}})()</script></head>\n",
      "<body>\n",
      "<script type='text/javascript' r='m'>\n",
      "_$GI('4EGr');\n",
      "</script>\n",
      "\n",
      "</body>\n",
      "</html>\n",
      "<script type=\"text/javascript\" r=\"m\">_$WN();</script>\n"
     ]
    }
   ],
   "source": [
    "# html = urllib.request.urlopen(\"http://cdwjw.chengdu.gov.cn/cdwjw/c135634/list.shtml\").read().decode('utf-8')\n",
    "# print(html)\n",
    "url = 'http://cdwjw.chengdu.gov.cn/cdwjw/c135634/list.shtml'\n",
    "# url = \"http://baidu.com\"\n",
    "headers = {'Upgrade-Insecure-Requests':'1',\n",
    "'User-Agent':'Mozilla/5.0 (Windows NT 6.1; Win64; x64) AppleWebKit/537.36 (KHTML, like Gecko) Chrome/58.0.3029.110 Safari/537.36',\n",
    "'Accept':'text/html,application/xhtml+xml,application/xml;q=0.9,image/webp,*/*;q=0.8',\n",
    "'Accept-Encoding':'gzip, deflate, sdch, br',\n",
    "'Accept-Language':'zh-CN,zh;q=0.8','Cookie':'ainfaoifivbiu'\n",
    "}\n",
    "r = requests.get(url,headers=headers)\n",
    "# req = s.get(url=url,headers=headers)\n",
    "html = r.content.decode()\n",
    "print(html)"
   ]
  },
  {
   "cell_type": "code",
   "execution_count": 33,
   "metadata": {},
   "outputs": [
    {
     "name": "stdout",
     "output_type": "stream",
     "text": [
      "\n"
     ]
    }
   ],
   "source": [
    "from selenium import webdriver\n",
    "from selenium.webdriver.common.keys import Keys\n",
    "from selenium.webdriver.common.by import By\n",
    "driver = webdriver.Chrome()\n",
    "# driver.get(\"http://cdwjw.chengdu.gov.cn/cdwjw/c135634/list.shtml\")\n",
    "# driver.get(\"http://wsjkw.weihai.gov.cn/col/col66744/index.html?uid=76267&pageNum=1\")\n",
    "# cdwjw.chengdu.gov.cn/cdwjw/c135634/list.shtml\n",
    "# driver.get(\"https://baidu.com\")\n",
    "print(driver.title)\n",
    "# driver.find_element(By.XPATH, '//button[text()=\"下一页\"]')\n"
   ]
  },
  {
   "cell_type": "code",
   "execution_count": 53,
   "metadata": {},
   "outputs": [
    {
     "ename": "InvalidArgumentException",
     "evalue": "Message: invalid argument\n  (Session info: chrome=83.0.4103.116)\n",
     "output_type": "error",
     "traceback": [
      "\u001b[0;31m---------------------------------------------------------------------------\u001b[0m",
      "\u001b[0;31mInvalidArgumentException\u001b[0m                  Traceback (most recent call last)",
      "\u001b[0;32m<ipython-input-53-cbffd838089d>\u001b[0m in \u001b[0;36m<module>\u001b[0;34m\u001b[0m\n\u001b[1;32m      5\u001b[0m \u001b[0;34m\u001b[0m\u001b[0m\n\u001b[1;32m      6\u001b[0m \u001b[0mbrowser\u001b[0m \u001b[0;34m=\u001b[0m \u001b[0mwebdriver\u001b[0m\u001b[0;34m.\u001b[0m\u001b[0mChrome\u001b[0m\u001b[0;34m(\u001b[0m\u001b[0;34m)\u001b[0m\u001b[0;34m\u001b[0m\u001b[0;34m\u001b[0m\u001b[0m\n\u001b[0;32m----> 7\u001b[0;31m \u001b[0mbrowser\u001b[0m\u001b[0;34m.\u001b[0m\u001b[0mget\u001b[0m\u001b[0;34m(\u001b[0m\u001b[0;34m'http;//baidu.com'\u001b[0m\u001b[0;34m)\u001b[0m\u001b[0;34m\u001b[0m\u001b[0;34m\u001b[0m\u001b[0m\n\u001b[0m\u001b[1;32m      8\u001b[0m \u001b[0;34m\u001b[0m\u001b[0m\n\u001b[1;32m      9\u001b[0m \u001b[0mCookie\u001b[0m \u001b[0;34m=\u001b[0m \u001b[0mbrowser\u001b[0m\u001b[0;34m.\u001b[0m\u001b[0mget_cookies\u001b[0m\u001b[0;34m(\u001b[0m\u001b[0;34m)\u001b[0m\u001b[0;34m\u001b[0m\u001b[0;34m\u001b[0m\u001b[0m\n",
      "\u001b[0;32m/opt/anaconda3/envs/crawler/lib/python3.7/site-packages/selenium/webdriver/remote/webdriver.py\u001b[0m in \u001b[0;36mget\u001b[0;34m(self, url)\u001b[0m\n\u001b[1;32m    331\u001b[0m         \u001b[0mLoads\u001b[0m \u001b[0ma\u001b[0m \u001b[0mweb\u001b[0m \u001b[0mpage\u001b[0m \u001b[0;32min\u001b[0m \u001b[0mthe\u001b[0m \u001b[0mcurrent\u001b[0m \u001b[0mbrowser\u001b[0m \u001b[0msession\u001b[0m\u001b[0;34m.\u001b[0m\u001b[0;34m\u001b[0m\u001b[0;34m\u001b[0m\u001b[0m\n\u001b[1;32m    332\u001b[0m         \"\"\"\n\u001b[0;32m--> 333\u001b[0;31m         \u001b[0mself\u001b[0m\u001b[0;34m.\u001b[0m\u001b[0mexecute\u001b[0m\u001b[0;34m(\u001b[0m\u001b[0mCommand\u001b[0m\u001b[0;34m.\u001b[0m\u001b[0mGET\u001b[0m\u001b[0;34m,\u001b[0m \u001b[0;34m{\u001b[0m\u001b[0;34m'url'\u001b[0m\u001b[0;34m:\u001b[0m \u001b[0murl\u001b[0m\u001b[0;34m}\u001b[0m\u001b[0;34m)\u001b[0m\u001b[0;34m\u001b[0m\u001b[0;34m\u001b[0m\u001b[0m\n\u001b[0m\u001b[1;32m    334\u001b[0m \u001b[0;34m\u001b[0m\u001b[0m\n\u001b[1;32m    335\u001b[0m     \u001b[0;34m@\u001b[0m\u001b[0mproperty\u001b[0m\u001b[0;34m\u001b[0m\u001b[0;34m\u001b[0m\u001b[0m\n",
      "\u001b[0;32m/opt/anaconda3/envs/crawler/lib/python3.7/site-packages/selenium/webdriver/remote/webdriver.py\u001b[0m in \u001b[0;36mexecute\u001b[0;34m(self, driver_command, params)\u001b[0m\n\u001b[1;32m    319\u001b[0m         \u001b[0mresponse\u001b[0m \u001b[0;34m=\u001b[0m \u001b[0mself\u001b[0m\u001b[0;34m.\u001b[0m\u001b[0mcommand_executor\u001b[0m\u001b[0;34m.\u001b[0m\u001b[0mexecute\u001b[0m\u001b[0;34m(\u001b[0m\u001b[0mdriver_command\u001b[0m\u001b[0;34m,\u001b[0m \u001b[0mparams\u001b[0m\u001b[0;34m)\u001b[0m\u001b[0;34m\u001b[0m\u001b[0;34m\u001b[0m\u001b[0m\n\u001b[1;32m    320\u001b[0m         \u001b[0;32mif\u001b[0m \u001b[0mresponse\u001b[0m\u001b[0;34m:\u001b[0m\u001b[0;34m\u001b[0m\u001b[0;34m\u001b[0m\u001b[0m\n\u001b[0;32m--> 321\u001b[0;31m             \u001b[0mself\u001b[0m\u001b[0;34m.\u001b[0m\u001b[0merror_handler\u001b[0m\u001b[0;34m.\u001b[0m\u001b[0mcheck_response\u001b[0m\u001b[0;34m(\u001b[0m\u001b[0mresponse\u001b[0m\u001b[0;34m)\u001b[0m\u001b[0;34m\u001b[0m\u001b[0;34m\u001b[0m\u001b[0m\n\u001b[0m\u001b[1;32m    322\u001b[0m             response['value'] = self._unwrap_value(\n\u001b[1;32m    323\u001b[0m                 response.get('value', None))\n",
      "\u001b[0;32m/opt/anaconda3/envs/crawler/lib/python3.7/site-packages/selenium/webdriver/remote/errorhandler.py\u001b[0m in \u001b[0;36mcheck_response\u001b[0;34m(self, response)\u001b[0m\n\u001b[1;32m    240\u001b[0m                 \u001b[0malert_text\u001b[0m \u001b[0;34m=\u001b[0m \u001b[0mvalue\u001b[0m\u001b[0;34m[\u001b[0m\u001b[0;34m'alert'\u001b[0m\u001b[0;34m]\u001b[0m\u001b[0;34m.\u001b[0m\u001b[0mget\u001b[0m\u001b[0;34m(\u001b[0m\u001b[0;34m'text'\u001b[0m\u001b[0;34m)\u001b[0m\u001b[0;34m\u001b[0m\u001b[0;34m\u001b[0m\u001b[0m\n\u001b[1;32m    241\u001b[0m             \u001b[0;32mraise\u001b[0m \u001b[0mexception_class\u001b[0m\u001b[0;34m(\u001b[0m\u001b[0mmessage\u001b[0m\u001b[0;34m,\u001b[0m \u001b[0mscreen\u001b[0m\u001b[0;34m,\u001b[0m \u001b[0mstacktrace\u001b[0m\u001b[0;34m,\u001b[0m \u001b[0malert_text\u001b[0m\u001b[0;34m)\u001b[0m\u001b[0;34m\u001b[0m\u001b[0;34m\u001b[0m\u001b[0m\n\u001b[0;32m--> 242\u001b[0;31m         \u001b[0;32mraise\u001b[0m \u001b[0mexception_class\u001b[0m\u001b[0;34m(\u001b[0m\u001b[0mmessage\u001b[0m\u001b[0;34m,\u001b[0m \u001b[0mscreen\u001b[0m\u001b[0;34m,\u001b[0m \u001b[0mstacktrace\u001b[0m\u001b[0;34m)\u001b[0m\u001b[0;34m\u001b[0m\u001b[0;34m\u001b[0m\u001b[0m\n\u001b[0m\u001b[1;32m    243\u001b[0m \u001b[0;34m\u001b[0m\u001b[0m\n\u001b[1;32m    244\u001b[0m     \u001b[0;32mdef\u001b[0m \u001b[0m_value_or_default\u001b[0m\u001b[0;34m(\u001b[0m\u001b[0mself\u001b[0m\u001b[0;34m,\u001b[0m \u001b[0mobj\u001b[0m\u001b[0;34m,\u001b[0m \u001b[0mkey\u001b[0m\u001b[0;34m,\u001b[0m \u001b[0mdefault\u001b[0m\u001b[0;34m)\u001b[0m\u001b[0;34m:\u001b[0m\u001b[0;34m\u001b[0m\u001b[0;34m\u001b[0m\u001b[0m\n",
      "\u001b[0;31mInvalidArgumentException\u001b[0m: Message: invalid argument\n  (Session info: chrome=83.0.4103.116)\n"
     ]
    }
   ],
   "source": [
    "from selenium import webdriver\n",
    "import json\n",
    "import requests\n",
    "import re\n",
    "\n",
    "browser = webdriver.Chrome()\n",
    "browser.get('http;//baidu.com')\n",
    "\n",
    "Cookie = browser.get_cookies()\n",
    "strr = ''\n",
    "#print(Cookie)\n",
    "for c in Cookie:\n",
    "    strr += c['name']\n",
    "    strr += '='\n",
    "    strr += c['value']\n",
    "    strr += ';'\n",
    "#strr = strr[0:-2]\n",
    "#print(strr)\n",
    "headers = {'Cookie':strr}\n",
    "#print(headers)\n",
    "# r2 = requests.get('http://cdwjw.chengdu.gov.cn/cdwjw/c135634/list.shtml',headers=headers)\n",
    "r2 = requests.get('http://baidu.com',headers=headers)\n",
    "print(r2)"
   ]
  },
  {
   "cell_type": "code",
   "execution_count": null,
   "metadata": {},
   "outputs": [],
   "source": []
  }
 ],
 "metadata": {
  "kernelspec": {
   "display_name": "pa",
   "language": "python",
   "name": "crawler"
  },
  "language_info": {
   "codemirror_mode": {
    "name": "ipython",
    "version": 3
   },
   "file_extension": ".py",
   "mimetype": "text/x-python",
   "name": "python",
   "nbconvert_exporter": "python",
   "pygments_lexer": "ipython3",
   "version": "3.7.4"
  }
 },
 "nbformat": 4,
 "nbformat_minor": 2
}
