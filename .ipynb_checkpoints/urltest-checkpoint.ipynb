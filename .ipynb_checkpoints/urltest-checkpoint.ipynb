{
 "cells": [
  {
   "cell_type": "code",
   "execution_count": 4,
   "metadata": {},
   "outputs": [
    {
     "name": "stdout",
     "output_type": "stream",
     "text": [
      "<html>\n",
      "<meta http-equiv=\"refresh\" content=\"0;url=http://www.baidu.com/\">\n",
      "</html>\n",
      "\n",
      "[]\n"
     ]
    }
   ],
   "source": [
    "import urllib.request\n",
    "import re\n",
    "\n",
    "html = urllib.request.urlopen(\"http://baidu.com\").read().decode('utf-8')\n",
    "print(html)\n",
    "\n",
    "res = re.findall(r'href=\"(.*?)\"',html)\n",
    "print(res)"
   ]
  },
  {
   "cell_type": "code",
   "execution_count": 4,
   "metadata": {},
   "outputs": [
    {
     "name": "stdout",
     "output_type": "stream",
     "text": [
      "<p><a href=\"http://www.gov.cn/premier/2019-04/14/content_5382647.htm\" target=\"_blank\">李克强在大山深处探访贫困户</a></p>\n"
     ]
    }
   ],
   "source": [
    "from bs4 import BeautifulSoup\n",
    "import urllib.request\n",
    "\n",
    "html = urllib.request.urlopen(\"http://www.gov.cn/index.htm\").read().decode('utf-8')\n",
    "soup = BeautifulSoup(html, features='lxml')\n",
    "print(soup.p)"
   ]
  },
  {
   "cell_type": "code",
   "execution_count": 10,
   "metadata": {},
   "outputs": [],
   "source": [
    "all_href = soup.find_all('a')\n",
    "# for l in all_href:\n",
    "#     print(l['href'])"
   ]
  },
  {
   "cell_type": "code",
   "execution_count": null,
   "metadata": {},
   "outputs": [],
   "source": [
    "#using css \n",
    "month = soup.find_all('li', {'class':'month'})\n",
    "for m in month:\n",
    "    print(m.get_text())"
   ]
  }
 ],
 "metadata": {
  "kernelspec": {
   "display_name": "pa",
   "language": "python",
   "name": "crawler"
  },
  "language_info": {
   "codemirror_mode": {
    "name": "ipython",
    "version": 3
   },
   "file_extension": ".py",
   "mimetype": "text/x-python",
   "name": "python",
   "nbconvert_exporter": "python",
   "pygments_lexer": "ipython3",
   "version": "3.7.4"
  }
 },
 "nbformat": 4,
 "nbformat_minor": 2
}
