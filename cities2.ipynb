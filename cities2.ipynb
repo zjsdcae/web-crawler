{
 "cells": [
  {
   "cell_type": "code",
   "execution_count": 2,
   "metadata": {},
   "outputs": [],
   "source": [
    "import re\n",
    "import urllib.request\n",
    "from bs4 import BeautifulSoup as bs\n",
    "import requests\n",
    "import webbrowser\n",
    "import csv\n",
    "from IPython.display import clear_output as clear"
   ]
  },
  {
   "cell_type": "code",
   "execution_count": 18,
   "metadata": {},
   "outputs": [
    {
     "name": "stdout",
     "output_type": "stream",
     "text": [
      "2\n",
      "3\n",
      "4\n",
      "5\n",
      "6\n",
      "7\n",
      "8\n",
      "9\n",
      "10\n",
      "11\n",
      "12\n",
      "13\n",
      "14\n",
      "15\n",
      "16\n",
      "17\n",
      "18\n",
      "19\n",
      "20\n",
      "http://wsjkw.zaozhuang.gov.cn/ztzl/glyyls/202001/P020200129471196081231.pdf\n"
     ]
    }
   ],
   "source": [
    "# 枣庄\n",
    "\n",
    "path = \"枣庄.csv\"\n",
    "def getCon(url):\n",
    "    con = \"\"\n",
    "    try:\n",
    "        html = urllib.request.urlopen(url).read().decode('utf-8')\n",
    "        soup = bs(html,'lxml')\n",
    "        div = soup.find('div', attrs={'class':\"tl_list_xxzl\"})\n",
    "        \n",
    "#         if div == None:\n",
    "#             div = soup.find('div', attrs={'class':\"view TRS_UEDITOR trs_paper_default trs_web\"})\n",
    "#         if div == None:\n",
    "#             div = soup.find('div', attrs={'class':\"view TRS_UEDITOR trs_paper_default trs_word trs_key4format\"})\n",
    "# #         if div == None;\n",
    "# #             div = soup.find('div', attrs={'class':\"view TRS_UEDITOR trs_paper_default trs_web trs_key4format\"})\n",
    "        con += div.get_text()\n",
    "    except:\n",
    "        print(url)\n",
    "    return con\n",
    "\n",
    "headers = {'User-Agent': 'User-Agent:Mozilla/5.0 (Macintosh; Intel Mac OS X 10_12_3) AppleWebKit/537.36 (KHTML, like Gecko) Chrome/56.0.2924.87 Safari/537.36'}\n",
    "paperBase = \"http://wsjkw.zaozhuang.gov.cn/\"\n",
    "\n",
    "def getCsv(url):\n",
    "    temp = urllib.request.Request(url,headers=headers)\n",
    "    try:\n",
    "        html = urllib.request.urlopen(temp).read().decode('utf-8')\n",
    "    except:\n",
    "        pass\n",
    "    soup = bs(html,'lxml')\n",
    "    allDiv = soup.find('div', attrs={'class':\"nr_list\"})\n",
    "#     print(soup)\n",
    "#     print(allDiv)\n",
    "    allli = allDiv.find('ul').find_all('li')\n",
    "    for li in allli:\n",
    "        spanTag = li.find_all('em')\n",
    "        aTag = li.find_all('a')\n",
    "        if \"http\" in aTag[0]['href']:\n",
    "            curl = str(aTag[0]['href'])\n",
    "        elif aTag[0]['href'][1] == \"/\":\n",
    "            curl = \"http://wsjkw.zaozhuang.gov.cn/ztzl/glyyls\" + aTag[0]['href'][1:]\n",
    "        else:\n",
    "            curl = paperBase+str(aTag[0]['href'])[6:]\n",
    "        with open(path, 'a+') as f:\n",
    "            csv_write = csv.writer(f)\n",
    "            dataRow = []\n",
    "            dataRow.append(spanTag[0].get_text())\n",
    "            dataRow.append(aTag[0].get_text())\n",
    "            dataRow.append(curl)\n",
    "            dataRow.append(getCon(curl))\n",
    "            csv_write.writerow(dataRow)\n",
    "            f.close()\n",
    "            \n",
    "            \n",
    "getCsv(\"http://wsjkw.zaozhuang.gov.cn/ztzl/glyyls/index.html\")\n",
    "for i in range(2,21):\n",
    "    print(i)\n",
    "    getCsv(\"http://wsjkw.zaozhuang.gov.cn/ztzl/glyyls/index\"+\"_\"+str(i)+\".html\")"
   ]
  },
  {
   "cell_type": "code",
   "execution_count": null,
   "metadata": {},
   "outputs": [],
   "source": []
  }
 ],
 "metadata": {
  "kernelspec": {
   "display_name": "pa",
   "language": "python",
   "name": "crawler"
  },
  "language_info": {
   "codemirror_mode": {
    "name": "ipython",
    "version": 3
   },
   "file_extension": ".py",
   "mimetype": "text/x-python",
   "name": "python",
   "nbconvert_exporter": "python",
   "pygments_lexer": "ipython3",
   "version": "3.7.4"
  }
 },
 "nbformat": 4,
 "nbformat_minor": 2
}
